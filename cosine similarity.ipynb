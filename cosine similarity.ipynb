{
 "cells": [
  {
   "cell_type": "code",
   "execution_count": 1,
   "metadata": {},
   "outputs": [],
   "source": [
    "import pandas as pd\n",
    "import numpy as np"
   ]
  },
  {
   "cell_type": "code",
   "execution_count": 2,
   "metadata": {},
   "outputs": [
    {
     "data": {
      "text/html": [
       "<div>\n",
       "<style scoped>\n",
       "    .dataframe tbody tr th:only-of-type {\n",
       "        vertical-align: middle;\n",
       "    }\n",
       "\n",
       "    .dataframe tbody tr th {\n",
       "        vertical-align: top;\n",
       "    }\n",
       "\n",
       "    .dataframe thead th {\n",
       "        text-align: right;\n",
       "    }\n",
       "</style>\n",
       "<table border=\"1\" class=\"dataframe\">\n",
       "  <thead>\n",
       "    <tr style=\"text-align: right;\">\n",
       "      <th></th>\n",
       "      <th>Link</th>\n",
       "      <th>Data</th>\n",
       "      <th>clean_text</th>\n",
       "    </tr>\n",
       "  </thead>\n",
       "  <tbody>\n",
       "    <tr>\n",
       "      <th>0</th>\n",
       "      <td>https://ligiaprapta17.wordpress.com/2015/03/03...</td>\n",
       "      <td>Pengertian Information Retrieval (IR), Peranan...</td>\n",
       "      <td>erti information retrieval peran contoh contoh...</td>\n",
       "    </tr>\n",
       "    <tr>\n",
       "      <th>1</th>\n",
       "      <td>http://www.markijar.com/2015/07/information-re...</td>\n",
       "      <td>Information Retrieval - MARKIJAR.Com Materi Pe...</td>\n",
       "      <td>information retrieval markijar com materi ajar...</td>\n",
       "    </tr>\n",
       "    <tr>\n",
       "      <th>2</th>\n",
       "      <td>http://ilmuteknologyindustri.blogspot.com/2017...</td>\n",
       "      <td>Pengertian Information Retrieval ILMU TEKNOLOG...</td>\n",
       "      <td>erti information retrieval ilmu teknologi indu...</td>\n",
       "    </tr>\n",
       "    <tr>\n",
       "      <th>3</th>\n",
       "      <td>https://adrianasari.wordpress.com/2011/09/20/i...</td>\n",
       "      <td>Information Retrieval (Temu Kembali Informasi)...</td>\n",
       "      <td>information retrieval temu informasi daun daun...</td>\n",
       "    </tr>\n",
       "    <tr>\n",
       "      <th>4</th>\n",
       "      <td>https://www.initialboard.com/perbedaan-al-marc...</td>\n",
       "      <td>Perbedaan Al, Marchine Learning, dan Deep Lear...</td>\n",
       "      <td>beda marchine learning deep learning menuabout...</td>\n",
       "    </tr>\n",
       "    <tr>\n",
       "      <th>5</th>\n",
       "      <td>https://www.kajianpustaka.com/2012/10/informat...</td>\n",
       "      <td>Information Retrival System (IRS) - KajianPust...</td>\n",
       "      <td>information retrival system irs kajianpustaka ...</td>\n",
       "    </tr>\n",
       "    <tr>\n",
       "      <th>6</th>\n",
       "      <td>http://teknosains.com/others/pengertian-konsep...</td>\n",
       "      <td>Pengertian &amp; Konsep Dasar Machine Learning You...</td>\n",
       "      <td>erti konsep dasar machine learning you don hav...</td>\n",
       "    </tr>\n",
       "    <tr>\n",
       "      <th>7</th>\n",
       "      <td>http://hirupmotekar.com/2017/04/25/taufik-ari-...</td>\n",
       "      <td>Taufik Ari Arnandan : Konsep, Metode dan Model...</td>\n",
       "      <td>taufik ari arnandan konsep metode model temu b...</td>\n",
       "    </tr>\n",
       "  </tbody>\n",
       "</table>\n",
       "</div>"
      ],
      "text/plain": [
       "                                                Link  \\\n",
       "0  https://ligiaprapta17.wordpress.com/2015/03/03...   \n",
       "1  http://www.markijar.com/2015/07/information-re...   \n",
       "2  http://ilmuteknologyindustri.blogspot.com/2017...   \n",
       "3  https://adrianasari.wordpress.com/2011/09/20/i...   \n",
       "4  https://www.initialboard.com/perbedaan-al-marc...   \n",
       "5  https://www.kajianpustaka.com/2012/10/informat...   \n",
       "6  http://teknosains.com/others/pengertian-konsep...   \n",
       "7  http://hirupmotekar.com/2017/04/25/taufik-ari-...   \n",
       "\n",
       "                                                Data  \\\n",
       "0  Pengertian Information Retrieval (IR), Peranan...   \n",
       "1  Information Retrieval - MARKIJAR.Com Materi Pe...   \n",
       "2  Pengertian Information Retrieval ILMU TEKNOLOG...   \n",
       "3  Information Retrieval (Temu Kembali Informasi)...   \n",
       "4  Perbedaan Al, Marchine Learning, dan Deep Lear...   \n",
       "5  Information Retrival System (IRS) - KajianPust...   \n",
       "6  Pengertian & Konsep Dasar Machine Learning You...   \n",
       "7  Taufik Ari Arnandan : Konsep, Metode dan Model...   \n",
       "\n",
       "                                          clean_text  \n",
       "0  erti information retrieval peran contoh contoh...  \n",
       "1  information retrieval markijar com materi ajar...  \n",
       "2  erti information retrieval ilmu teknologi indu...  \n",
       "3  information retrieval temu informasi daun daun...  \n",
       "4  beda marchine learning deep learning menuabout...  \n",
       "5  information retrival system irs kajianpustaka ...  \n",
       "6  erti konsep dasar machine learning you don hav...  \n",
       "7  taufik ari arnandan konsep metode model temu b...  "
      ]
     },
     "execution_count": 2,
     "metadata": {},
     "output_type": "execute_result"
    }
   ],
   "source": [
    "df_ir = pd.read_csv(\"clean_data.csv\")\n",
    "df_ir"
   ]
  },
  {
   "cell_type": "code",
   "execution_count": 8,
   "metadata": {},
   "outputs": [],
   "source": [
    "import re\n",
    "import nltk\n",
    "from nltk.tokenize import word_tokenize\n",
    "from Sastrawi.Stemmer.StemmerFactory import StemmerFactory\n",
    "from Sastrawi.StopWordRemover.StopWordRemoverFactory import StopWordRemoverFactory\n",
    "\n",
    "def prepros_word(raw_text):\n",
    "  \n",
    "    #1. Case folding\n",
    "    lowertext = raw_text.lower()\n",
    "    \n",
    "    #2. Filtering\n",
    "    deleteurl = re.sub(r\"http\\S+\", \"\", lowertext)\n",
    "    letters_only = re.sub(\"[^a-z]\", \" \",str(deleteurl))\n",
    "    spacetext = letters_only.strip()\n",
    "  \n",
    "    #3. Tokenisasi\n",
    "    words = spacetext.split()\n",
    "#    words1 = word_tokenize(spacetext)\n",
    "    \n",
    "    #4. Stemming\n",
    "    stem_words = []\n",
    "    stem1 = StemmerFactory()\n",
    "    stemmer = stem1.create_stemmer()\n",
    "    for word in words:\n",
    "        stem_text = stemmer.stem(word)\n",
    "        stem_words.append(stem_text)\n",
    "        \n",
    "    #5. Remove stop words\n",
    "    stopword_factory = StopWordRemoverFactory()\n",
    "    stopwords = stopword_factory.get_stop_words()\n",
    "    filtered_text = [word for word in stem_words if word not in stopwords]\n",
    "  \n",
    "    # 5. Join the words back into one string separated by space & return, remove the short text\n",
    "    return(\" \".join(w for w in filtered_text if len(w)>2))"
   ]
  },
  {
   "cell_type": "code",
   "execution_count": 13,
   "metadata": {},
   "outputs": [
    {
     "data": {
      "text/plain": [
       "'erti information retrieval machine learning'"
      ]
     },
     "execution_count": 13,
     "metadata": {},
     "output_type": "execute_result"
    }
   ],
   "source": [
    "query = \"Pengertian information retrieval dalam machine learning\"\n",
    "clean_query = prepros_word(query)\n",
    "clean_query"
   ]
  },
  {
   "cell_type": "code",
   "execution_count": 39,
   "metadata": {},
   "outputs": [
    {
     "data": {
      "text/plain": [
       "['erti information retrieval peran contoh contoh ligiaprapta lanjut konten ligiaprapta sistem temu informasi menu berandaartikel berandapengertian information retrieval peran contoh contoh erti information retrieval peran contoh contoh maret maret ligiaprapta yoga ligia prapta teknologi informasi fakultas teknik universitas udayana sistem temu informasi putu agus eka pratama erti information retrieval information retrieval sering sebut temu infromasi ilmu ajar prosedur prosedur metode metode temu informasi simpan bagai sumber resources relevan koleksi sumber informasi cari butuh tindak index indexing panggil searching panggil data recalling cari data beberapa jenis data temu texts table gambar image video audio adapun tuju infromation retrieval ialah penuh informasi cara meretrieve dokumen relevan menguragi dokumen cari relevean definisi information retrieval cara konsep sederhana rupa proses cari kemudain apa cari titik rat proses ungkap bagaimana jalan informasi minta jadi infrormasi beri turut beberapa ahli definisi bagai ikut turut kowalaski informasi retrieval konsep sederhana cari laku orang contoh user cari informasi butuh sistem jaha bentuk statment kemudian eksekusi sistem cari william hersh nyata information retrieval bidang simpang ilmu informasi ilmu komputer kutat indeks ambil informasi sumber informasi heterogen besar tekstual istilah cipta mooers tahun anjur terap aspek intelektual deskripsi informasi sistem cari mooers kutip wikipedia wikipedia jelas information retrieval seni ilmu cari informasi dokumen cari dokumen sendiri cari metadata jelas dokumen cari database rasional database diri sendiri database hypertext jaring internet intranet teks suara gambar video data tiga rujuk definisi atas jelas maksud information retrevial bidang ilmu teknologi informasi jelas cari ambil informasi ilmu ungkap bagaimana metode metode cari informasi laku end user gudang gudang simpan sekala besar contoh sederhana media simpan sendiri terkadang makin banyak data simpan buah media simpan tak jarang lupa mana leta data simpan tadi laku proses cari data lupa tadi tools cari periksa satu satu tempat simpan data studi kasus lebih kompleks terap search engine mesin cari google yahoo bing rupa implementasi sangat kompleks peran information retrieval information retrieval milik banyak user lihat fungsi mesin cari cari informasi pustaka apotik bagai semua jasa information retrieval punya peran analis isi sumber informasi tanya temu tanya sumber informasi dokumen relevan contoh contoh information retrieval searching text lalu web search engine keyword masuk user cari informasi search engine mana informasi kandung relevansi kait harap information retrieval pustaka pustaka salah satu institusi pertama adopsi sistem informasi umum sistem pustaka awal kembang institusi akademis kemudian produsen komersil generasi pertama sistem dasar diri suatu otomatisasi teknologi kartu katalog mungkin cari dasar judul nama arang generasi mampu cari tambah cari dasar pokok utama kata kunci tambah fasilitas kueri kompleks generasi tiga sekarang sedang sebar fokus tingkat antarmuka grafis format elektronik fitur hypertext sistem arsitektur buka cbir content based image retrieval technology retrieval dasar kategori konten warna mana user deskripsi image apa cari cara pilih kategori misal jenis image negara tahun buat sumber twitterfacebooksukai suka muat navigasi pos erti search engine optimization seo tinggal balas batal balas ketik komentar sini isi data bawah klik salah satu ikon log surel wajib alamat tak pernah publikasi nama wajib situs web you are commenting using your wordpress com account logout ubah you are commenting using your google account logout ubah you are commenting using your twitter account logout ubah you are commenting using your facebook account logout ubah batal connecting beri tahu komentar baru lalu email beritahu pos pos baru lewat surat elektronik cari ligia prapta maret jun blog wordpress com privasi cookie situs cookie lanjut situs web tuju tahu lebih lanjut masuk cara kontrol cookie lihat sini bijak cookie blogger suka',\n",
       " 'information retrieval markijar com materi ajar smp sma smk teknik informatika motivasi cerita motivasi kata motivasi tips trik fakta unik beranda teknik informatika information retrieval tulis admin jul tambah komentar apa information retrieval information retrieval ialah seni ilmu cari informasi dokumen cari dokumen sendiri cari metadata jelas dokumen maupun cari database rasional database diri sendiri database hypertext jaring internet intranet teks suara gambar data turut kowalaski informasi retrieval ialah konsep sederhana cari laku orang contoh user periksa informasi butuh sistem jaha bentuk statment kemudian eksekusi sistem cari information retrieval information retrieval temu informasi informasi relevan hadap butuh suatu kumpul informasi cara otomatis salah satu contoh aplikasi umum informasi retrieval ialah search engine maupun mesin cari jaring internet baca kumulan materi teknik informatika rujuk definisi atas jelas maksud information retrevial ialah bidang ilmu teknologi informasi jelas cari ambil informasi elemen penting information retrieval precision reacall precision rupa rasio jumlah dokumen relevan temu total jumlah dokumen temu precision cermin kualitas himpun jawab pandang total jumlah dokumen relevan kumpul dokumen precision recall rua rasio jumlah dokumen relevan temu total jumlah dokumen kumpul dokumen anggap relevan recall tuju information retrieval penuh ialah bagaimana dokumen relevan dokumen relevan tuju rupa bagaimana susun dokumen data tampil cara urut dokumen milik tingkat relevansi paling tingi tingkat relevansi paling rendah baca kumpul cerita motivasi baik contoh sederhana information retrieval ialah media simpan sendiri terkadang makin banyak data simpan buah media simpan lupa mana leta data simpan perlu laku proses cari data lupa tadi tools cari periksa satu satu peta simpan data studi kasus lebih kompleks terap search engine mesin cari google yahoo search engine rupa implementasi sangat kompleks information retrieval cara kerja information retrieval temu informasi relevan cari kata kunci keyword kueri masuk baik sesuai informasi keyword usai proses cari index mesin information retrieval lebih cepat korpus sesuai katakunci masuk tampil enduser keyword kueri rupa inputan kata kunci cari beri mesin cari google yahoo indexing rupa proses susun index seluruh dokumen korpus diri kata kata token korpus ialah kumpul dokumen salin mesin misal google jepret seluruh halaman website akses umum login lebih kemudian salin mesin ruang servernya google bagaimana mesin information retrieval salin dokumen dokumen dunia maya mesin milik robot bot jenis program sebut crawler program sebut kemudian fungsi salin dokumen informasi disalasatu sumber misal website server sebut laku crawling bot sebut laku indexing beri index baharu index index sis kata kata token suatu web blog lebih simplenya memposting suatu informasi melualui blog selalu minta pasu tag artikel posting gambar indexing google jadi index mesin cari rupa kumpul miliyaran tag tag informasi ikut contoh video crawling salasatu mesin cari sedang kembang orang developer milik blog alamat ikut proses crawling sedang vidio bawah ilustrasi bagaimana google search engine kerja proses jadi information retrieval sendiri diri utama indexing subsystem searching subsystem matching system proses indexing bentuk basisdata hadap koleksi dokumen masuk kata indexing ialah proses siap laku dokumen dokumen siap proses proses indexing sendiri liput proses term indexing document indexing hasil term indexing hasil koleksi kata tingkat performansi cari tahap lanjut tahap proses indexing ialah word token ubah dokumen jadi kumpul term cara hapus semua karakter tanda baca dokumen ubah kumpul term jadi lowercase stopword removal proses hapus kata kata sering tampil dokumen and not bagai stemming proses ubah suatu kata bentuk jadi kata dasar term weighting proses bobot tiap term dokumen baca kumpul kata motivasi baik model information retrieval jenis model vector space model representasi dokumen query bentuk vektor dimensional model probabilistic model framework probabilistik model boolean model sederhana dasar atas teori himpun aljabar boolean model ruang vektor model probabilistik model bobot kata rangking dokumen hasil retrieval model model rupa dokumen rangking anggap paling relevan hadap query model ruang vektor dokumen query representasi bagai vektor ruang vektor susun indeks term kemudian model sama geometri sedang model probabilistik representasi buat asumsi asumsi distribusi term dokumen relevan relevan orde estimasi mungkin relevansi suatu dokumen hadap query sekian artikel information retrieval moga artikel sobat lebih tau apa information retrieval mana implementasi nya markijar ajar artikel langgan update artikel baru via email komentar information retrieval posting komentar posting lebih baru posting lama beranda langgan posting komentar atom iklan atas artikel iklan tengah artikel iklan tengah artikel iklan bawah artikel baca asmaul husna lengkap arti jelas asmaul husna arti nama nama allah indah baik agung mulia sesuai sifat sifat nya arti kata asma quot ukur lapang bola voli lengkap gambar terang hampir semua orang pernah main main olah raga bola voli pernah perhati detail lapang sejarah hari batik nasional lengkap sejarah hari batik nasional tiap oktober ingat hari batik nasional tahu sobat sejarah tang label agama islam bahasa bahasa indonesia bahasa inggris bio sma bio sma bio sma biologi cerita motivasi cpns ekonomi fakta unik fis sma fis sma fis sma fisika geo sma geo sma geo sma geografi kata motivasi bangsa kim sma kim sma kim sma kimia markijar matematika motivasi mtk sma mtk sma mtk sma tahu umum penjaskes psikologi sej sma sej sma sej sma sejarah seni budaya sma sma kls sma kls sma kls smk smk kls smk kls smk kls smp smp kls smp kls smp kls sosiologi teknik informatika tik tik smk tik smp tips trik kontak privacy policy tos saran copyright markijar com',\n",
       " 'erti information retrieval ilmu teknologi industri menu home home information erti retrieval erti information retrieval senin maret erti information retrieval erti information retrieval information retrieval rupa computer science hubung ambil informasi dokumen dokumen dasar isi konteks dokumen dokumen sendiri dasar referensi jelas information retrieval rupa suatu cari informasi dasar suatu query harap penuh user kumpul dokumen beberapa erti information retrieval bagai sumber information retrieval studi sistem indeks cari ingat data khusus teks bentuk struktur information retrieval seni ilmu cari informasi dokumen cari dokumen sendiri cari metadata jelas dokumen cari database rasional database diri sendiri database hypertext jaring internet intranet teks suara gambar data information retrieval bidang simpang ilmu informasi ilmu komputer kutat indeks ambil informasi sumber informasi heterogen besar tekstual istilah cipta mooers tahun anjur terap aspek intelektual deskripsi informasi sistem cari mooers informasi data cari upa upa teks image audio video koleksi data teks jadi sumber cari upa pesan teks mail fax dokumen berita bahkan dokumen edar internet jumlah dokumen koleksi besar bagai sumber cari butuh suatu sistem bantu user temu dokumen relevan waktu singkat tepat teknologi informasi istilah data retrieval information retrieval sangat beda data retrieval cara umum dokumen tepat suatu koleksi data isi dokumen sebut kandung keyword query user pernah cukup penuh butuh informasi user beda data retrieval user sistem information retrieval lebih perhati retrieve informasi lalu subyek retrieve data dasar query beri user mau tahu bagaimana proses sedang langsung model information retrieval model besar set theoretic models model representasi dokumen bagai himpun kata frase contoh model ialah standard boolean model extended boolean model algebratic model model representasi dokumen query bagai vektor matriks similarity vektor dokumen vektor query representasi bagai buah nilai skalar contoh model ialah vector space model latent semantic indexing lsi probabilistic model model laku proses dokumen bagai buah probabilistic inference contoh model ialah terap teorema bayes model probabilistik proses information retrieval gambar bagai buah proses relevant documents collection documents lalu cari query diinputkan user proses jadi information retrieval system diri utama indexing subsystem searching subsystem matching system proses indexing laku bentuk basisdata hadap koleksi dokumen masuk kata indexing rupa proses siap laku hadap dokumen dokumen siap proses proses indexing sendiri liput proses document indexing term indexing term indexing hasil koleksi kata tingkat performansi cari tahap lanjut tahap tahap jadi proses indexing ialah word token ubah dokumen jadi kumpul term cara hapus semua karakter tanda baca dokumen ubah kumpul term jadi lowercase stopword removal proses hapus kata kata sering tampil dokumen and not bagai stemming proses ubah suatu kata bentuk jadi kata dasar term weighting proses bobot tiap term dokumen search subsystem matching rupa proses temu informasi dokumen relevan hadap query beri semua dokumen ambil retrieved system rupa dokumen sesuai user relevant gambar bawah tunjuk hubung dokumen relevan dokumen ambil system dokumen relevan ambil system ukur performansi information retrieval system nilai performansi aplikasi tunjuk hasil suatu irs informasi butuh user ukur performansi irs koleksi uji koleksi uji diri tiga koleksi dokumen query relevance judgement koleksi dokumen kumpul dokumen jadi bahan cari sistem relevance judgement daftar dokumen dokumen relevan semua query sedia parameter performansi sistem precision tepat precision ialah banding jumlah dokumen relevan sistem jumlah seluruh dokumen ambil sistem baik relevan maupun relevan precision jumlah dokumen relevan query ambil jumlah seluruh dokumen ambil recall lengkap recall ialah banding jumlah dokumen relevan sistem jumlah seluruh dokumen relevan koleksi dokumen ambil tak ambil sistem recall jumlah dokumen relevan query ambil sistem jumlah seluruh dokumen relevan koleksi dokumen interpolate average precision iap ukur performansi timbang aspek urut rangking laku laku interpolasi precision recall iap catat semua semua dokumen relevan urut dokumen sebut hasil irs hitung nilai precisionnya nilai precision semua titik ubah nilai recall jadi nilai precision ubah nilai recall ubah naik precision satu titik recall maksimal precision semua titik recall lebih kecil titik sebut bagai contoh suatu irs dokumen dasar suatu query urut bagai ikut dokumen relevan koleksi dokumen dasar query sebut ialah nilai precision sistem sebut ialah sedang nilai recall nya ialah terap aplikasi information retrieval searching text lalu web search engine keyword masuk user cari informasi search engine mana informasi kandung relevansi kait harap information retrieval pustaka pustaka salah satu institusi pertama adopsi sistem informasi umum sistem pustaka awal kembang institusi akademis kemudian produsen komersil generasi pertama sistem dasar diri suatu otomatisasi teknologi kartu katalog mungkin cari dasar judul nama arang generasi mampu cari tambah cari dasar pokok utama kata kunci tambah fasilitas kueri kompleks generasi tiga sekarang sedang sebar fokus tingkat antarmuka grafis format elektronik fitur hypertext sistem arsitektur buka cbir content based image retrieval technology retrieval dasar kategori konten warna mana user deskripsi image apa cari cara pilih kategori misal jenis image negara tahun buat erti information retrieval rating pos frf share facebook google twitter artikel kait erti information retrieval komentar posting komentar posting lebih baru posting lama beranda langgan posting komentar atom popular posts erti cara kerja turbin turbin uap erti cara kerja turbin turbin uap turbin buah mesin putar ambil energi alir fluida turbin sederha erti jenis tuju maintenance erti tuju maintenance erti maintenance maintenance rupa suatu fungsi suatu industry manufa erti faktor faktor rencana produksi rencana produksi erti rencana produksi langkah pertama laku proses produksi susun suat fungsi rem komponen komponen rem fungsi rem rem rupa salah satu komponen mesin mekanik sangat vital rem beri gaya gesek suatu fungsi komponen klasifikasi turbin uap turbin uap siklus renkine cipta langsung terima bagai standar bangkit daya uap steam siklu erti jenis jenis cara kerja aktuator erti aktuator rupa alat alat mekanis gera hasil masuk plant sesuai erti kendali proses produksi erti kendali proses produksi usaha semua giat perlu kendali kendali salah satu fungsi fungsi kopling jenis jenis kopling urai materi sepeda motor tuntut operasi jalan bagai kondisi jalan mesin berfungs erti boiler cfb circulating fluidized bed erti kenal teknologi boiler cfb circulating fluidized bed konsep dasar boiler cfb boiler stoker unggun erti ruang lingkup rancang usaha agribisnis rancang usaha agribisnis erti ruang lingkup rancang usaha agribisnis deskripsi modul susun bagai materi bel labels erti industri teknologi jenis jenis manfaat teori didik sistem sejarah komponen produksi energi fungsi material teknik cara kerja klasifikasi maintenance engineering pelihara awat prinsip macam macam mesin defenisi komponen komponen bangkit listrik tuju boiler kembang proses jaring karakteristik mechanical bakar elemen bahan bakar temperatur jenis konsep komputer metode bangkit analisis jaring internet makalah tani kembang struktur cara kerja bangun turbin perangkat lunak ekonomi faktor faktor komunikasi lumas siklus tipe iptek plta renun rencana energi listrik kelapa sawit listrik listrik ajar teliti banding sensor tekan teknik tani turbin gas alir fluida dasar fungsi kompresor pltgu pltu prinsip kerja system software android aplikasi cara kerja turbin dampak hukum informasi internet langkah langkah listrik logam manfaat teknologi media ajar model motor dingin alat sama usaha poros sejarah sepeda sistem imformasi tanam tenaga kerja angin analisa bernoulli blowdown definition data definisi energi baru gas handphone investasi jenis jenis kereta api jenis jenis motor knowledge komponer kultur jaring limbah mikrokontroler monokultur new media nitrogen operasi plta program pantai bangkit tenaga listrik pengaruh negatif pengaruh positif erti teknologi informasi operasi amal rancang strategi satelit sistem lnformasi steganographi sulfur telekomunikasi transformator turbin uap water alat ukur alir analiasa cara kerja kompresor desains efisiensi fluida fungsi teknologi fungsi turbin kereta api kompresor kondensor kualitas sawit manajemen minyak motor listrik dekat api pengaruh olah jual kembang sepeda profil proper proses olah sawit ruanga bakar sifat sifat sistem kontrol sistem dingin statistik steam sumber tahap tahap tahap tenaga ombak transfortasi turbin angin undang undang variabel langkah fasa windows mobile langkah ahp air tanah alat bantu avr adsorpsi affiliate agregat agribisnis air dingin alat bantu kondensor alternating current analytical arus asimilasi sulfur assisted biokontrol bioteknologi boiler cold based fire bearing biaya produksi biologi biomassa budiadaya crm computer cooling tower cybercrime dampak teknologi informasi dana defenisi balerang defenisi emplasemen commerce eksekutif energi alternatif flokulasi fundamental fungi fungsi switch yard fluidized bed fungsi kereta api fungsi sistem dingin fungsi teknologi informasi gaya generator greenhouse hidrogen hidrolik hierarchy ilmu tahu intervensi tanam pakan ilmu fisika impairment industri dewasa information infrastruktur teknologi invesatsi jenis jenis turbin sehat koagulasi konversi energi kreativitas katup expansi butuh perlu putus kerja ketenagakerjaan khasanah kimia analitik klasifikasi bearing kompetitor komponen utama kompresor diafragma kondensat kuantitatif linux lng lpw language layer learning linear lingkup low mahasiswa mekanisme main intake management bangun hitung identifikasi microsoft milenium nasional operating osi osi layer optimasi orbit otomatisasi kantor pai pelton turbine pengembagan erti teknologi didik permeabilitas plc pltmh procedure proposal ptl manfaat bangkit pembunmian dekat psikologi sosial dukung hrsg temu teknologi terap teknologi informasi ambil antar pengembanganwindows kenal pengertain erti asimilasi erti pola tanam tumpangsari erti sitem refrigerasi erti teknologi ajar erti komunikasi massa olah data peran teknologi ajar rencana kembang ilmu teknologi tani wawas lingkung timbang tukar tumbuh pompa centrifugal powerpoint pressure heater procedures process programming pronunciation proteksi purifikasi rembes radio rekayasa rekayasa retrieval risk based auditing rotary vacuum filter ruang sejarah turbin sistem refrigerasi standard start suhu sumberdaya tanam pakan saring pasir sasar bangun sejarah kembang teknologi sektor series set sinkron siklus nitrogen siklus refregerasi sistem air dingin sistem heylandt sistem hidrolik sistem informasi sistem pisah sistem tekan specifications stasiun steam psig steam boiler sample steam turbine studi layak sumber energi supplies symbian tahap tahap distribusi tanam tumpangsari teknologi komunikasi teks telepon seluler televisi tenaga tenaga mikro hidro tenaga uap teori komunikasi massa baru tersier air thermodinamika toko total prodwwtive maintenance tpm transesterifikasi tulang ayam turbin impuls turbin reaksi unix unsur nitrogen usaha water treatment water way warta pertamina web web portal website windows agama islam aktuator akutansi analisis data angkut asfek asfek kereta api generator bahan batubara bensin bentuk boiler cfb browser machine buruh ciri ciri citra data mining defenisi biaya defenisi jalan raya depresiasi eknik pantai fase function fungsi generator fungsi transformator gambut gelombang amplitudo golong golong biaya grafik hardware hubung hukum boyle ilmu sosial imformasi induksi industry instrumentasi integrasi sistem ion istilah ekonomi jejaring jenis jenis biaya jenis jenis kompresor karakteristik biaya karakteristik motor karburator cepat kuat jalan lebih kendara rugi untung kerja sistem kontrol kompo komponen air dingin komponen transformator koneksi konsep sejarah konseptual konversi lignin makalah kelapa sawit makna manfaat jalan raya manfaat sawit megnet mekanika mekanika fluida elo mesin dingin minyak tekan misi model sepeda motor motor diesel motor induksi motor servo oksigen online operator pangan bahas sejarah bentuk pupu pupu kelapa sawit tanam kelapa sawit didik ekon dingin temu kerta api temu sepeda erti data erti teknologi kerja tahu olah tbs operasi penngertian biaya peran awat jalan teknogi awat kelapa sawit baik beda kembang kereta api kembang komunikasi tani pakan tumbuh kelapa sawit pesawat pesawat terbang pewer point pneumatik pompa prinsip kerja generator prinsip kerja transformator produktivitas remaja rotor ruang bakar rumah susun sejarah kereta api sejarah kereta api persero sejarah kereta api bima sejarah kereta api dunia sejarah sepeda motor sepeda motor service sfesifikasi sfesifikasi transformator sistem pmformasi sistem rem sistem tranmisi komunikasi sisten kontrol sistim situs solar spesifikasi stator tahan tanah tandan tegang tekniksi teknogi teknologi imformasi teknologi kerja teknologi ajar teknologi perta tembaga tenaga listrik teori biaya teori ekonomi teori sejarah teori turbin unsur belerang verssi visi viskositas zat zat kimia copyright about sitemap contact privacy template seo elite distributed free template',\n",
       " 'information retrieval temu informasi daun daun hidup daun daun hidup share knowledge and experience life writing menu lanjut konten berandakata motivasi tulis information retrieval temu informasi sep definisi information retrieval studi sistem indeks cari ingat data khusus teks bentuk struktur virtechseo com information retrieval seni ilmu cari informasi dokumen cari dokumen sendiri cari metadata jelas dokumen cari database rasional database diri sendiri database hypertext jaring internet intranet teks suara gambar data wikipedia information retrieval bidang simpang ilmu informasi ilmu komputer kutat indeks ambil informasi sumber informasi heterogen besar tekstual istilah cipta mooers tahun anjur terap aspek intelektual deskripsi informasi sistem cari mooers hersh cara prinsip simpan informasi temu informasi sederhana misal tempat simpan dokumen dokumen orang user rumus suatu tanya request query jawab himpun dokumen kandung informasi perlu ekspresi lalu tanya user user dokumen dokumen perlu baca semua dokumen tempat simpan simpan dokumen dokumen relevan buang dokumen rupa perfect retrieval solusi praktis user milik waktu habis waktu baca seluruh koleksi dokumen lepas nyata cara fisik user mungkin laku information retrieval rupa computer science hubung ambil informasi dokumen dokumen dasar isi konteks dokumen dokumen sendiri information retrieval rupa suatu cari informasi biasa upa dokumen dasar suatu query inputan user harap penuh user kumpul dokumen sedang definisi query information retrieval turut referensi rupa buah formula cari informasi butuh user bentuk paling sederhana buah query rupa suatu keywords kata kunci dokumen kandung keywords rupa dokumen cari irs proses jadi information retrieval system diri utama indexing subsystem searching subsystem matching system proses indexing laku bentuk basisdata hadap koleksi dokumen masuk kata indexing rupa proses siap laku hadap dokumen dokumen siap proses proses indexing sendiri liput proses document indexing term indexing term indexing hasil koleksi kata tingkat performansi cari tahap lanjut tahap tahap jadi proses indexing ialah word token ubah dokumen jadi kumpul term cara hapus semua karakter tanda baca dokumen ubah kumpul term jadi lowercase stopword removal proses hapus kata kata sering tampil dokumen and not bagai stemming proses ubah suatu kata bentuk jadi kata dasar term weighting proses bobot tiap term dokumen model tiga jenis model boolean rupa model sederhana dasar atas teori himpun aljabar boolean model vector space rupa model representasi dokumen query bentuk vektor dimensional model probabilistic rupa model framework probabilistik model ruang vektor model probabilistik model bobot kata rangking dokumen hasil retrieval model model dokumen rangking anggap paling relevan hadap query model ruang vektor dokumen query representasi bagai vektor ruang vektor susun indeks term kemudian model sama geometri sedang model probabilistik buat asumsi asumsi distribusi term dokumen relevan relevan orde estimasi mungkin relevansi suatu dokumen hadap suatu query referensi iklan share this twitterfacebooksukai suka muat kait this entry was posted september knowledge and tagged information retrieval temu informasi bookmark the permalink tinggal komentar navigasi pos melati lavender tinggal balas batal balas ketik komentar sini isi data bawah klik salah satu ikon log surel wajib alamat tak pernah publikasi nama wajib situs web you are commenting using your wordpress com account logout ubah you are commenting using your google account logout ubah you are commenting using your twitter account logout ubah you are commenting using your facebook account logout ubah batal connecting beri tahu komentar baru lalu email beritahu pos pos baru lewat surat elektronik cari kalender postingan september jul okt tulis baru move move dana refund taby selamat tinggal taby lady gaga born this way lirik lagu tahun baru resolusi baru categoryai cerpen diary favorite movie flora great place building cantik sehat knowledge lagu favorit motivasi perl photoshop php mysql psikologi semantic web teknologi xml top post bunga lily synopsis film dil pagal hai macam gelombang otak khasiat mengkudu cerdas buat mawar information retrieval temu informasi kata motivasi candi borobudur blog stats hits blog teman sia antonius arale arif cahyadi ariwi astaufik budi caramellisa febry damaresta jarwadi lira semantic fariz yen herdiyeni kampung blog ikut blog lalu surat elektromik masuk alamat surat elektronik ikut blog terima pemberitahuan tulis baru lalu surat elektronik ikut iklan buat situs web blog gratis wordpress com privasi cookie situs cookie lanjut situs web tuju tahu lebih lanjut masuk cara kontrol cookie lihat sini bijak cookie blogger suka',\n",
       " 'beda marchine learning deep learning menuaboutpanduan raspberry pidata processing projectsdongeng teknologifile management projectsgaming projectsmultimedia projectsnetworking projectsserver projectsvideo photography projectspanduan arduinotutorial premiumpendekar mikrotik paket tutorial mikrotik paling lengkapinitiarduino tutorial lengkap arduino bahasa indonesiatutorial server diskless warnet sekolah kantordownload tutorial raspberry indonesiahomedongeng teknologiperbedaan marchine learning deep learningperbedaan marchine learning deep learning intialboard usaha usaha teknologi besar maupun kecil saing wujud teknologi paling canggih kamu pernah medengar baca baca bahas usaha teknologi skala besar luput istilah kata kata teknologi istilah sebut ajar mesin sebut bagai machine learning deep learning neural network bahkan natural language processing beda marchine learning deep learningmungkin dengar bingung bahas perlu kalian tahu bahas deep learning machine learning kemudian tahu apa beda tiga kalimat dunia teknologi sebut apa jelas apa artificial intelligenceai artificial intelligence cerdas buat sistem cerdas buat tambah suatu sistem atur maksud sini atur konteks ilmiah definisi bagai cerdas ilmiah sistem umum komputer maksud sistem cerdas buat cara jadi suatu komputer kerja cara cerdas lampau manusia tuju komputer mampu perilaku ambil suatu putus suatu soal manusia mampu batas sebut lemahai mampu batas lemah rancang selesai tugas manusia sederhana banyak jumpa mampu kalah manusia main catur temu ponsel hari hari butuh asistan digital contoh cortana mampu beri kabar kena cuaca waktu daerah mobil kendali otomatis hidup hari hari jenis mampu laksana tugas disetting kerja satu tugas mampu tak batas sebut kuatlanjutkan apa diskless serversamanta rupa program defisi paling sesuai mampu tak batas mampu ajar kasus baru modifikasi basis kode sendiri bantu manusia nangka main catur jadi sopir mobil pribadi program rupa jalan beberapa tugas tangan sendiri anatomi mampu batas rupa temu sangat canggih lima asai bagai ikut persepsikomputer milik panca indera manusia interaksi dunia manusia komputer milik indera lebih lima lebih indera manusia mulai indera lihat maupun dengar sangat luar biasa semua wujud lalu bantu mesin teknologi canggih pemrosesan bahasa alami nlp mampu mampu indera layak manusia mampu bahasa cara lisan maupun tulis capa perlu bekal mampu identifikasi kalimat paham beda makna kata sangat sulit identifikasi beda makna kalimat sama punya arti beda mampu pengetahuanselain mampu mengindera bagai objek manusia kata mampu informasi dunia lalu pikir sendiri mampu ambil keputusansetelah kumpul data lewat indera kemudian hubung lalu konsep data kumpul sebut pecah suatu masalah rencana pemetaanwalaupun komputer bantu manusia jadi lebih manusiawi contoh mampu kendali mobil cara otomatis satu salah bahaya nyawa manusia ahli sedang teliti cari cara sesuai dunia manusia lanjut download skripsi teknik informatikadiibaratkan sistem kenal pola kotak hitam kamera salah satu ujung lampu hijau merah biru apabila rekam mobil lewat nyala lampu hijau disetting sesuai butuh apa marchine learning bagaimana cara kerja apa marchine learning bagaimana cara kerjanyamarchine learning teknik kait ajar data data konsep tekni fungsi prediksi informasi dunia marchine learning rancang algoritma algoritma sini maksud decision tree learning association rule learning rangkai intruksi biasa program selesai suatu masalah algoritma urut langkah langkah selesai masalah pemrograman komputer algoritma marchine learning dunia jaring syaraf buat teknik kerja neuron otak manusia cara kerja neuron sebut neuron system manusia input masuk lalu lapis pertama saraf suatu jaring saraf diri beberapa neuron tiap neuron terima input tiap neuron milik isi muat tiap muat neuron sebut hasil output dasar kadar muat masing masing output lapis pertama salur lapis proses terus output berahir hasil otak buat ajar banyak identifikasi bagai masalah layak otak manusia misal buah meja buah foto rekam bentuk meja iring jalan waktu identifikasi meja sebut tingkat mampu identifikasi benda sebut apa deep learning lebih baik apa deep learningdeep learning rangkai metode latih jaring saraf buat multi lapis punya banyak lapis metode sangat efektif lebih mudah identifikasi pola data masuk lanjut tips jadi kembang aplikasi internet thingsdeep learning sangat dampak maju kembang capai cara tahap perangkat lunak rambah bagai bidang industri contoh facebook sistem deep learning lalu asisten virtual bas bantu laku bagai tugas mes teliti facebook google system deep learning deep learning jadi otak utama cipta lebih cerdas manusiawi contoh otak google pindai gambar perlu ribu prosessor jalan asing jaring saraf jalan computer smartphone bahkan smartphone pintar murah edar masyarakat bantu butuh manusia deep learning tingkat mulai proses bahasa alami katakana ambil gambar deep learning rupa otak lebih baik unggul tingkat cara kerja sistem komputer deep learning lebih baik tingkat mampu sistem komputer asisten virtual siri google now sistem bantu tangan tahu cara sempurna virtual sebut proses video buat klip film sangat pengaruh laku deep learning jadi tarik simpul rupa sistem manual disetting laksana satu tugas kemudian marchine learning suatu program ajar upa saraf neuron fungsi perintah suatu otak computer deep learning mampu sistem setting baik tingkat kerja komputer share linkedin email prev articlenext article related articles banyak orang awam tahu banyak teknologi apa long range proxmox bukan baru mahasiswa sysadmin tau apa proxmox smart city bilang kalimat kota cerdas kenal smart city buah kota butuh refrensi ide skripsi ide thesis bahkan download skripsi teknik informatika pernah dengar diskless server apa diskless apa diskless server baru ajar coding nah ikut tips jadi tips jadi kembang aplikasi internet thingsabout the author intialboarddiy project maker tulis sekaligus editor initialboard orang sangat biasa aja suka tulis comments nayamanto namu natu tarik hadap lora terap tani mohon cerah lebih lanjut intialboard pak iot terap banyak case salah satu dunia tani bapak sempit scopenya dulu biar jelas sekira mau projek apa leave reply batal balas initialboard single board computer review diy projects guides copyright initialboard adblocker eror halo kawan bila adblocker sedang aktif mati dulu terimakasih atas pengertianyarefresh',\n",
       " 'information retrival system irs kajianpustaka com hukum ilmu hukum administrasi hukum islam syariah ekonomi manajemen akuntansi pasar perban teknik arsitektur elektronika informatika listrik mekatronika teknik sipil didik ajar teliti statistik sehat awat bidan psikologi sakit olahraga sosial ilmu sosial transportasi politik lingkung hidup komunikasi mipa biologi fisika kimia cari cari beranda database sistem informasi information retrival system irs tulis muchlisin riadi senin oktober tambah komentar information retrieval seni ilmu cari informasi dokumen cari dokumen sendiri cari metadata gambar bentuk dokumen cari data base hubung data base diri sendiri hiperteks jaring database internet intranet teks suara gambar data information retrival system irs fungsi atur ledak informasi literature ilmiah beberapa decade akhir banyak universitas pustaka umum sistem sedia akses buku jurnal dokumen sistem seringkali hubung objek query tipe tipe user information retrival system beda jadi actual user potential user expected user benefically users real user end user intermediery novice users expert user tipe tipe tahu jauh mana tingkat user paham hadap proses telusur informasi information retrieval system temu retrieve informasi informasi relevan hadap butuh user suatu kumpul pangkal informasi cara otomatis sistem temu balik informasi utama kait cari telusur informasi isi milik struktur ekspresi butuh sebut query milik struktur beda information retrieval system database system information retrieval system model sistem temu informasi detail sistem temu informasi liput representasi dokumen maupun query fungsi cari retrieval function notasi sesuai relevance notation dokumen hadap query salah satu model sistem temu informasi paling awal model boolean model boolean presentasi dokumen bagai suatu himpun kata kunci set keywords sedang query representasi bagai ekspresi boolean query ekspresi boolean rupa kumpul kata kunci saling hubung lalu operator boolean and not tanda kurung scope operator hasil cari dokumen model boolean himpun dokumen relevan information retrival system irs text operations operasi hadap teks liput pilih kata kata query maupun dokumen pentransformasian dokumen query jadi terms index indeks kata kata query formulation formulasi hadap query beri bobot indeks kata kata query ranking cari dokumen dokumen relevan hadap query urut dokumen sebut dasar sesuai query indexing bangun data indeks koleksi dokumen dilkakukan lebih cari dokumen sistem temu balik informasi terima query kemudian laku rangking hadap koleksi dasar sesuai query hasil rangking beri rupa dokumen sistem relevan query relevansi dokumen hadap suatu query rupa nilai subjektif pengaruh banyak faktor artikel langgan update artikel baru via email komentar information retrival system irs posting komentar posting lebih baru posting lama beranda langgan posting komentar atom iklan atas artikel iklan tengah artikel iklan tengah artikel iklan bawah artikel proposal teliti pilih judul teliti temu masalah teliti susun hipotesis teliti metode teliti kualitatif hitung reabilitas hitung validitas administrasi akuntansi bahasa biologi ekonomi elektronika fisika hukum informatika sehat kimia komunikasi lingkung listrik manajemen matematika metode ajar olahraga pasar didik teliti sakit perban tani politik psikologi seni sosial syariah teknik sipil erti teknik atur lari jarak pendek erti fungsi tuju jenis jenis kemas erti tuju fungsi manfaat sop erti fungsi jenis label produk erti jenis susun distribusi frekuensi about contact pasang iklan privacy policy disclaimer table contents copyright kajianpustaka com',\n",
       " 'erti konsep dasar machine learning you don have javascript enabled good luck with that homesains teknologigadgetastronomiprogramming more advertiselinuxwindowsdunia sekolahdunia kuliahinternetadvertiseaboutcontactterm serviceprivacy policy budyks sep otherspengertian konsep dasar machine learningshare facebookshare share twitter commentsmachine learning cabang aplikasi artificial intelligence cerdas buat focus kembang buah sistem mampu ajar sendiri ulang kali program manusia aplikasi machine learning butuh data bagai bahan ajar training keluar output aplikasi jenis biasa domain spesifik alias terap cara general semua masalah bagai contoh aplikasi kenal gambar aplikasi asisten pribadi siri google chat bot kenal wajah mobil otonom domain domain spesifik pribadi team dulu pernah kembang aplikasi app machine learning nali makan tampil informasi gizi nya protein carbs namain tuingle app nya kamu coba suka foto makan coba deh download app cerdas buat lokal nih peran data machine learning machine learning bukan apa apa data arti semua aplikasi machine learning butuh data bagai bahan training analisa mampu keluar output aplikasi machine learning kerja butuh data latih training hasil training uji test data sama tolak belakang misal buat machine learning nali nasi padang nasi recognition system training sedia koleksi ratus ribu bahkan juta gambar nasi padang setela baru test hasil latih menginputkan nasi padang jenis test pasu foto object mobil gunung komputer output machine learning umum upa prekdiksi label tingkat kepercayaanya misal input gambar nasi padang sistem sistem beri output nasi padang nasi pecel karedok nasi kucing nasi kamvret output output harap tingkat percaya mencapat paling tinggi skala machine learning data machine learning upa apa aja upa table data excel upa gambar tuingle google image apa memang siap khusus input machine learning cara matematika sederhana rumus umum machine leaning benar begini mana output input fungsi function mana cara singkat kata machine learning penuh kaidah output input kata output machine learning hasil olah fungsi hadap input contoh aplikasi tuingle kasih input upa gambar foto nasi padang fungsi fungsi algorithm tuingle harap memberitahu kalo foto nasi padang share share facebookshare share twitter commentssubscribesubscribe email artikel baru tarik followfollow banyak tarik sana loh follow yahfollow twitter kamifollow bbm channel kamifollow instagram related commentsyour comment name email submit load more datang sekolah subscribe subscribe email artikel baru tarik follow follow banyak tarik sana loh follow yahfollow twitter kamifollow bbm channel kamifollow instagram famous stay connected teknosains com about advertise bantu contact syarat bijak privasi ibx dfd ecfa',\n",
       " 'taufik ari arnandan konsep metode model temu balik informasi hirup motekar nandang gmail com ilmu cari berkah hirup motekar hirup motekar menu home android aplikasi android temu balik informasi databases mysql sqlserver java tips trik taufik ari arnandan konsep metode model temu balik informasi april comments konsep metode model temu balik informasi temu balik informasi telusur informasi temu balik informasi rupa istilah generic acu temu balik dokumen sumber data fakta milik unit informasi pusta sedang telusur informasi rupa buah proses temu informasi laku penuh butuh pakai informasi butuh bantu bagai alat telusur temu informasi milik pustaka unit informasi inti kaji kaji bidang ilmu informasi temu informasi jarvelin vakary turut belkin titik perhati fokus kaji temu informasi lima pindah informasi sistem komunikasi pikir informasi efektifitas sistem pindah informasi hubung informasi cipta hubung informasi pakai konsep dasar temu balik informasi konsep dasar indexing searching perengkingan relevansi keyword query konsep sistem tbi tulis presentasi kumpul ide buah dokumen kumpul konsep beberapa perlu ide muka tulis sebut identifikasi temu baik sistem temu informasi tuju temu ide muka tulis dokumen butuh informasi nyata bentuk tanya query konsep dasar information retrieval system diri indexing searching perengkingan relevansi keyword query proses indexing laku bentuk database index hadap koleksi dokumen masuk kata indexing rupa proses siap laku hadap dokumen dokumen siap retrive proses indexing sendiri liput proses dokukmen indexing term indexing term indexing hasil koleksi kata tingkat performansi cari tahap lanjut tahap tahap proses indexing ialah word token parsing stopword removal filtering stemming idf term frequency inversed document frequency word token parsing tahap tokenizing sebut bagai parsing ambil kata kata term kumpul dokumen jadi kumpul term cara hapus karakter tanda baca dokumen ubah kumpul term jadi lowercas stopword removal filtering tahap stopword removal filtering proses hapus buang kata kata sering tampil dokumen and not sedang bagai stemming proses stemming proses buang prefix sufix suatu kata bentuk jadi kata dasar proses stemming laku kan hasil peringkat halaman informasi relevan idf term frequency inversed document frequency metode idf rupa suatu metode bobot bentuk buah metode rupa integrasi antar term frequency inverse document frequency cari sumber informasi sangat luas batas internet browsing selancar jajah informasi internet selancar laku buah program sebut browser software selancar pustaka digital tunjuk tunjuk search cara mudah laku cari suatu internet suatu pustaka digital usaha maksimal mungkin beri mudah cari informasi perlu model information retrieval model laku cocok term term query term term document collection model information retrieval model besar set theoritic models model representasi dokumen bagai himpun kata frase contoh model ialah standard boolean model extended boolean model algebratic model model representasi dokumen query bagai vektor matriks similarityantara vektor dokumen vektor query representasi bagai buah nilai skalar contoh model ialah vektor space model model ruang vektor danlatent semantic indexing lsi probabilistic model model laku proses ambil dokumen bagai buah probabilistic inference contoh model ialah terap teorema bayes model probabilistik user task user task rupa perilaku apa laku kalau cari informasi terjemah mesin sedang logical view the document cara pandang dokumen bagai wakil rangkai indeks kata kunci baik cara otomatis laku komputer maupun buat manusia kembang sisi user task batas jenis model klasik boolean keti cari infrmasi ukur relevan relevan vector coba baik lemah boolean putus dokumen relevan relevan sistemkomputer misal tawar dokumen nila paling relevan relevan relevan probabilistik sistem pakai model kenal bagai binary independence retrieval bir pakai prinsip probabilitas mungkin proses minta cari informasi querying lihat bagai buah proses sekali jalan model struktur cari informasi laku rujuk struktur dokumen milik mungkin non overlapping list sistem model dokumen bagai wilayah teks misal ikut stuktur dokumen bab sub bab judul sub judul gambar foto tabel terus kemudian masing masing wilayah laku indeks saling tindih non overlapping proximal nodes model beberapa struktur indeks milik hirarki independen terhapap buah dokumen masing masing indeks rujuk struktur dokumen bab sub bab judul sub judul gambar foto tabel terus nama nodes masing masing node rujuk dokumen kandung teks model boolean mode boolean sistem temu rupa model paling sederhana model dasar teori himpun aljabar boolean dokumen himpun istilah term kueri nyata boolean tulis term dokumen prediksi relevan model operator boolean istilah term buah kueri hubung operator and not metode rupa metode paling sering mesin telusur search engine cepat untung model boolean model boolean rupa model sederhana teori dasar himpun mudah implementasi model boolean luas proximity operator wildcard operator timbang biaya ubah software struktur database utama sistem komersil kurang model boolean model boolean peringkat dokumen ambil dokumen ambil dokumen benar benar sesuai nyata boolean kueri beri dokumen ambil sangat banyak sedikit akibat sulit ambil putus teori himpun memang mudah nyata boolean kompleks akibat milik tahu banyak kena kueri boolean cari jadi efisien selesai partial matching kueri model vektor beberapa karakteristik model vektor sistem temu model vektor dasar keyterm model vektor dukung partial matching peringkat dokumen prinsip dasar vektor model bagai ikut dokumen representasi gun vektor keyterm ruang dimensi keyterms kueri representasi vektor keyterm sama document keyterm hitung dasar jarak vektor model probabilistic karakteristik model probabilistik sistem temu bagai ikut laku duga page relevansi probabilistik punya teoritical framework jelas dasar prinsip statistik relevansi dokumen diupdate feed back user ide dasar query hasil jawab benar gun indeks term duga awal initial hasil feed back user baik probabilitas relavansi presentasi download sumber model probabilistik sistem temu informasi browsing searching alam tki model tbie temu balik informasi temu balik informasi post navigation angga tri sasongko temu stemming stoplist iqbal rifadhli temu konsep metode model tbi leave reply cancel reply your email address will not published required fields are marked comment name email website recent posts pmo custom library final projek pemrograman mobile dwi joko purnomo pmo temu custom library final projek pemrograman mobile danang aldy kurniawan final projek pemrograman mobile fadil recent commentsarchives october december november october may april january december october august june may april february categories android aplikasi android databases home java mysql sqlserver temu balik informasi tips trik uncategorized meta register log entries rss comments rss wordpress org hirup motekar ilmu cari berkah recent posts pmo custom library pemrograman mobile kelompok anggota kelompok madi final projek pemrograman mobile dwi joko purnomo pemrograman mobile kelompok tri wahyono sarif hidayatuloh dhimas galih prasetyo miftahul contact info nandang gmail com hirup motekar all rights reserved skt yogi lite',\n",
       " 'erti information retrieval machine learning']"
      ]
     },
     "execution_count": 39,
     "metadata": {},
     "output_type": "execute_result"
    }
   ],
   "source": [
    "from sklearn.feature_extraction.text import TfidfVectorizer\n",
    "data = df_ir[\"clean_text\"].tolist()\n",
    "data.append(clean_query)\n",
    "vectorizer = TfidfVectorizer()\n",
    "data_vec = vectorizer.fit_transform(data).todense()\n",
    "data"
   ]
  },
  {
   "cell_type": "code",
   "execution_count": 50,
   "metadata": {},
   "outputs": [
    {
     "data": {
      "text/plain": [
       "array([0.21194614, 0.14087806, 0.22463579, 0.11835229, 0.20851923,\n",
       "       0.13714743, 0.35756835, 0.02178288])"
      ]
     },
     "execution_count": 50,
     "metadata": {},
     "output_type": "execute_result"
    }
   ],
   "source": [
    "from sklearn.metrics.pairwise import cosine_similarity\n",
    "cosine = cosine_similarity(data_vec[-1:], data_vec[0:-1])\n",
    "cosine = cosine[0]\n",
    "cosine"
   ]
  },
  {
   "cell_type": "code",
   "execution_count": 60,
   "metadata": {},
   "outputs": [
    {
     "data": {
      "text/html": [
       "<div>\n",
       "<style scoped>\n",
       "    .dataframe tbody tr th:only-of-type {\n",
       "        vertical-align: middle;\n",
       "    }\n",
       "\n",
       "    .dataframe tbody tr th {\n",
       "        vertical-align: top;\n",
       "    }\n",
       "\n",
       "    .dataframe thead th {\n",
       "        text-align: right;\n",
       "    }\n",
       "</style>\n",
       "<table border=\"1\" class=\"dataframe\">\n",
       "  <thead>\n",
       "    <tr style=\"text-align: right;\">\n",
       "      <th></th>\n",
       "      <th>Link</th>\n",
       "      <th>Data</th>\n",
       "      <th>clean_text</th>\n",
       "      <th>cosine</th>\n",
       "    </tr>\n",
       "  </thead>\n",
       "  <tbody>\n",
       "    <tr>\n",
       "      <th>7</th>\n",
       "      <td>http://hirupmotekar.com/2017/04/25/taufik-ari-...</td>\n",
       "      <td>Taufik Ari Arnandan : Konsep, Metode dan Model...</td>\n",
       "      <td>taufik ari arnandan konsep metode model temu b...</td>\n",
       "      <td>0.357568</td>\n",
       "    </tr>\n",
       "    <tr>\n",
       "      <th>6</th>\n",
       "      <td>http://teknosains.com/others/pengertian-konsep...</td>\n",
       "      <td>Pengertian &amp; Konsep Dasar Machine Learning You...</td>\n",
       "      <td>erti konsep dasar machine learning you don hav...</td>\n",
       "      <td>0.224636</td>\n",
       "    </tr>\n",
       "    <tr>\n",
       "      <th>5</th>\n",
       "      <td>https://www.kajianpustaka.com/2012/10/informat...</td>\n",
       "      <td>Information Retrival System (IRS) - KajianPust...</td>\n",
       "      <td>information retrival system irs kajianpustaka ...</td>\n",
       "      <td>0.211946</td>\n",
       "    </tr>\n",
       "    <tr>\n",
       "      <th>4</th>\n",
       "      <td>https://www.initialboard.com/perbedaan-al-marc...</td>\n",
       "      <td>Perbedaan Al, Marchine Learning, dan Deep Lear...</td>\n",
       "      <td>beda marchine learning deep learning menuabout...</td>\n",
       "      <td>0.208519</td>\n",
       "    </tr>\n",
       "    <tr>\n",
       "      <th>1</th>\n",
       "      <td>http://www.markijar.com/2015/07/information-re...</td>\n",
       "      <td>Information Retrieval - MARKIJAR.Com Materi Pe...</td>\n",
       "      <td>information retrieval markijar com materi ajar...</td>\n",
       "      <td>0.140878</td>\n",
       "    </tr>\n",
       "    <tr>\n",
       "      <th>2</th>\n",
       "      <td>http://ilmuteknologyindustri.blogspot.com/2017...</td>\n",
       "      <td>Pengertian Information Retrieval ILMU TEKNOLOG...</td>\n",
       "      <td>erti information retrieval ilmu teknologi indu...</td>\n",
       "      <td>0.137147</td>\n",
       "    </tr>\n",
       "    <tr>\n",
       "      <th>3</th>\n",
       "      <td>https://adrianasari.wordpress.com/2011/09/20/i...</td>\n",
       "      <td>Information Retrieval (Temu Kembali Informasi)...</td>\n",
       "      <td>information retrieval temu informasi daun daun...</td>\n",
       "      <td>0.118352</td>\n",
       "    </tr>\n",
       "    <tr>\n",
       "      <th>0</th>\n",
       "      <td>https://ligiaprapta17.wordpress.com/2015/03/03...</td>\n",
       "      <td>Pengertian Information Retrieval (IR), Peranan...</td>\n",
       "      <td>erti information retrieval peran contoh contoh...</td>\n",
       "      <td>0.021783</td>\n",
       "    </tr>\n",
       "  </tbody>\n",
       "</table>\n",
       "</div>"
      ],
      "text/plain": [
       "                                                Link  \\\n",
       "7  http://hirupmotekar.com/2017/04/25/taufik-ari-...   \n",
       "6  http://teknosains.com/others/pengertian-konsep...   \n",
       "5  https://www.kajianpustaka.com/2012/10/informat...   \n",
       "4  https://www.initialboard.com/perbedaan-al-marc...   \n",
       "1  http://www.markijar.com/2015/07/information-re...   \n",
       "2  http://ilmuteknologyindustri.blogspot.com/2017...   \n",
       "3  https://adrianasari.wordpress.com/2011/09/20/i...   \n",
       "0  https://ligiaprapta17.wordpress.com/2015/03/03...   \n",
       "\n",
       "                                                Data  \\\n",
       "7  Taufik Ari Arnandan : Konsep, Metode dan Model...   \n",
       "6  Pengertian & Konsep Dasar Machine Learning You...   \n",
       "5  Information Retrival System (IRS) - KajianPust...   \n",
       "4  Perbedaan Al, Marchine Learning, dan Deep Lear...   \n",
       "1  Information Retrieval - MARKIJAR.Com Materi Pe...   \n",
       "2  Pengertian Information Retrieval ILMU TEKNOLOG...   \n",
       "3  Information Retrieval (Temu Kembali Informasi)...   \n",
       "0  Pengertian Information Retrieval (IR), Peranan...   \n",
       "\n",
       "                                          clean_text    cosine  \n",
       "7  taufik ari arnandan konsep metode model temu b...  0.357568  \n",
       "6  erti konsep dasar machine learning you don hav...  0.224636  \n",
       "5  information retrival system irs kajianpustaka ...  0.211946  \n",
       "4  beda marchine learning deep learning menuabout...  0.208519  \n",
       "1  information retrieval markijar com materi ajar...  0.140878  \n",
       "2  erti information retrieval ilmu teknologi indu...  0.137147  \n",
       "3  information retrieval temu informasi daun daun...  0.118352  \n",
       "0  erti information retrieval peran contoh contoh...  0.021783  "
      ]
     },
     "execution_count": 60,
     "metadata": {},
     "output_type": "execute_result"
    }
   ],
   "source": [
    "df_ir[\"cosine\"] = cosine\n",
    "df_ir.sort_values(by='cosine', inplace=True, ascending=False)\n",
    "df_ir"
   ]
  }
 ],
 "metadata": {
  "kernelspec": {
   "display_name": "Python 3",
   "language": "python",
   "name": "python3"
  },
  "language_info": {
   "codemirror_mode": {
    "name": "ipython",
    "version": 3
   },
   "file_extension": ".py",
   "mimetype": "text/x-python",
   "name": "python",
   "nbconvert_exporter": "python",
   "pygments_lexer": "ipython3",
   "version": "3.7.1"
  }
 },
 "nbformat": 4,
 "nbformat_minor": 2
}
